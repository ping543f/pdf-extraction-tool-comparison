{
 "metadata": {
  "language_info": {
   "codemirror_mode": {
    "name": "ipython",
    "version": 3
   },
   "file_extension": ".py",
   "mimetype": "text/x-python",
   "name": "python",
   "nbconvert_exporter": "python",
   "pygments_lexer": "ipython3",
   "version": "3.7.3"
  },
  "orig_nbformat": 4,
  "kernelspec": {
   "name": "python3",
   "display_name": "Python 3.7.3 64-bit ('base': conda)"
  },
  "interpreter": {
   "hash": "f86ccf8a325c2fb15e4b7f31efc4a49871897a8af714dd6a44910958bb4a41c3"
  }
 },
 "nbformat": 4,
 "nbformat_minor": 2,
 "cells": [
  {
   "cell_type": "code",
   "execution_count": 3,
   "metadata": {},
   "outputs": [
    {
     "output_type": "stream",
     "name": "stdout",
     "text": [
      "peak memory: 46.13 MiB, increment: 0.11 MiB\n",
      "GROBID server is up and running\n",
      "10 PDF files to process\n",
      "../dataset/9.pdf\n",
      "../dataset/8.pdf\n",
      "../dataset/10.pdf\n",
      "../dataset/5.pdf\n",
      "../dataset/4.pdf\n",
      "../dataset/6.pdf\n",
      "../dataset/7.pdf\n",
      "../dataset/3.pdf\n",
      "../dataset/2.pdf\n",
      "../dataset/1.pdf\n",
      "../dataset\n",
      "CPU times: user 140 ms, sys: 418 ms, total: 558 ms\n",
      "Wall time: 44.2 s\n"
     ]
    }
   ],
   "source": [
    "%%time\n",
    "%reload_ext memory_profiler\n",
    "%memit\n",
    "'''\n",
    "Recursively apply GROBID to the PDF present in a file tree via the grobid client.\n",
    "'''\n",
    "\n",
    "import os\n",
    "grobid = __import__('grobid-client')\n",
    "\n",
    "if __name__ == \"__main__\":\n",
    "\n",
    "    client = grobid.grobid_client(config_path=\"./config.json\")\n",
    "    input_path = \"../dataset\"\n",
    "    for root, _, _ in os.walk(input_path):\n",
    "        client.process(root, root, 10, \"processFulltextDocument\", False, 1, 0, True, True, True, False)\n",
    "        print(root)\n",
    "                "
   ]
  },
  {
   "cell_type": "code",
   "execution_count": null,
   "metadata": {},
   "outputs": [],
   "source": []
  }
 ]
}